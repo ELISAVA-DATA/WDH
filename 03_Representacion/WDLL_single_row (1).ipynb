{
 "cells": [
  {
   "cell_type": "code",
   "execution_count": null,
   "id": "d845ce91-8f79-493d-9b88-f4944a05a38a",
   "metadata": {},
   "outputs": [],
   "source": [
    "import pandas as pd\n",
    "from collections import Counter\n",
    "import re"
   ]
  },
  {
   "cell_type": "code",
   "execution_count": null,
   "id": "cacc04d9-add4-469c-ad90-9fc51c905584",
   "metadata": {},
   "outputs": [],
   "source": [
    "fila = 14"
   ]
  },
  {
   "cell_type": "code",
   "execution_count": null,
   "id": "7f539e0e-c70a-46fb-8d46-7bb9a08e15d2",
   "metadata": {},
   "outputs": [],
   "source": [
    "df = pd.read_csv('C:/Users/mafer/Downloads/data.csv')"
   ]
  },
  {
   "cell_type": "code",
   "execution_count": null,
   "id": "4f2794ef-a5f3-46d4-a2b1-b2f43d19d817",
   "metadata": {},
   "outputs": [],
   "source": [
    "compania = df.at[fila, 'Compania']"
   ]
  },
  {
   "cell_type": "code",
   "execution_count": null,
   "id": "c6e55512-1781-4738-953d-20cea828d8c8",
   "metadata": {},
   "outputs": [],
   "source": [
    "if compania == \"amigos\":\n",
    "    shape = \"Group graph\"\n",
    "elif compania == \"pareja\":\n",
    "    shape = \"Couple graph\"\n",
    "else:\n",
    "    shape = \"Simple graph\""
   ]
  },
  {
   "cell_type": "code",
   "execution_count": null,
   "id": "9b4d2947-9958-40fc-bfe0-2c91eff3d96a",
   "metadata": {},
   "outputs": [],
   "source": [
    "print(df.columns)"
   ]
  },
  {
   "cell_type": "code",
   "execution_count": null,
   "id": "a1e5a190-b18e-4aec-95cc-21909d0974d6",
   "metadata": {},
   "outputs": [],
   "source": [
    "print(compania)"
   ]
  },
  {
   "cell_type": "code",
   "execution_count": null,
   "id": "17eec2f7-3b6a-405d-be9f-64f5c4e5343a",
   "metadata": {},
   "outputs": [],
   "source": [
    "print(shape)"
   ]
  },
  {
   "cell_type": "code",
   "execution_count": null,
   "id": "4d2280d8-63b7-429a-b793-01dd9d134c23",
   "metadata": {},
   "outputs": [],
   "source": [
    "viaje = df.at[fila, 'Viaje']"
   ]
  },
  {
   "cell_type": "code",
   "execution_count": null,
   "id": "48be794c-cf29-4651-9234-021980f820e3",
   "metadata": {},
   "outputs": [],
   "source": [
    "if viaje == \"Si\":\n",
    "    blue = True\n",
    "else:\n",
    "    blue = False"
   ]
  },
  {
   "cell_type": "code",
   "execution_count": 21,
   "id": "6f7f3415-afe8-44ba-9cf0-53cd52eb76fb",
   "metadata": {},
   "outputs": [],
   "source": [
    "naturaleza = df.at[fila, 'Naturaleza']\n",
    "if naturaleza == 1:\n",
    "    color2 = \"green\""
   ]
  },
  {
   "cell_type": "code",
   "execution_count": 34,
   "id": "3e55a9ac-5954-495d-83ff-441ebc10fc6d",
   "metadata": {},
   "outputs": [],
   "source": [
    "logro = df.at[fila, 'logro']\n",
    "if logro == 1:\n",
    "    color3= \"pink\""
   ]
  },
  {
   "cell_type": "code",
   "execution_count": 36,
   "id": "4a985b96-0a9a-4c5e-92a4-08c3f6bc80dc",
   "metadata": {},
   "outputs": [],
   "source": [
    "playa = df.at[fila, 'Naturaleza']\n",
    "if playa == 1:\n",
    "    color2 = \"green\""
   ]
  },
  {
   "cell_type": "code",
   "execution_count": 38,
   "id": "872bc8c0-9d0c-4a27-baf3-51e7e9106d23",
   "metadata": {},
   "outputs": [],
   "source": [
    "fiesta = df.at[fila, 'fiesta']\n",
    "if fiesta == 1:\n",
    "    color4 = \"orange\""
   ]
  },
  {
   "cell_type": "code",
   "execution_count": 40,
   "id": "033f3630-1383-47dd-a2cf-37d632d3968c",
   "metadata": {},
   "outputs": [],
   "source": [
    "sonrisa = df.at[fila, 'sonrisa']\n",
    "if sonrisa == 1:\n",
    "    sparkle = True"
   ]
  },
  {
   "cell_type": "code",
   "execution_count": 42,
   "id": "86d5fe6e-9fb6-4a16-907f-09a743270029",
   "metadata": {},
   "outputs": [],
   "source": [
    "space = df.at[fila, 'Interior/Exterior']    "
   ]
  },
  {
   "cell_type": "code",
   "execution_count": 44,
   "id": "d8863b59-418d-4c85-8ddf-091850931b60",
   "metadata": {},
   "outputs": [
    {
     "name": "stdout",
     "output_type": "stream",
     "text": [
      "Colmenar Viejo\n"
     ]
    }
   ],
   "source": [
    "ubi = df.at[fila, 'Ubicacion / Location']\n",
    "print(ubi)"
   ]
  },
  {
   "cell_type": "code",
   "execution_count": null,
   "id": "5dc7baab-e9e7-43f5-84c6-2ac1425ddc86",
   "metadata": {},
   "outputs": [],
   "source": [
    "output = shape\n",
    "\n",
    "if blue == True:\n",
    "    output += \" \" + \"blue\"\n",
    "if 'color2' in globals():\n",
    "    output += \" \" + color2\n",
    "if 'color3' in globals():\n",
    "    output += \" \" + color3\n",
    "if 'color4' in globals():\n",
    "    output += \" \" + color4\n",
    "if \"space\" == \"ext\":\n",
    "    output += \" add contour\"\n",
    "if sparkle == True:\n",
    "    output += \" with sparkle!\"\n",
    "\n",
    "print(output)"
   ]
  },
  {
   "cell_type": "code",
   "execution_count": null,
   "id": "bf8d2d2c-9b0a-41ec-81bd-681d9adbce6c",
   "metadata": {},
   "outputs": [],
   "source": []
  },
  {
   "cell_type": "code",
   "execution_count": null,
   "id": "c2bd6ffe-9f11-4ad8-b4bf-5f29415fe633",
   "metadata": {},
   "outputs": [],
   "source": []
  },
  {
   "cell_type": "code",
   "execution_count": null,
   "id": "02c79165-c3d7-4f04-8625-62bc41200829",
   "metadata": {},
   "outputs": [],
   "source": []
  }
 ],
 "metadata": {
  "kernelspec": {
   "display_name": "Python [conda env:jupyter_env_fer]",
   "language": "python",
   "name": "conda-env-jupyter_env_fer-py"
  },
  "language_info": {
   "codemirror_mode": {
    "name": "ipython",
    "version": 3
   },
   "file_extension": ".py",
   "mimetype": "text/x-python",
   "name": "python",
   "nbconvert_exporter": "python",
   "pygments_lexer": "ipython3",
   "version": "3.8.20"
  }
 },
 "nbformat": 4,
 "nbformat_minor": 5
}
