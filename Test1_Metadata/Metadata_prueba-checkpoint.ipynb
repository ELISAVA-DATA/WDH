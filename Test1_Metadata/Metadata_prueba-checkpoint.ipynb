{
 "cells": [
  {
   "cell_type": "code",
   "execution_count": null,
   "id": "d1072fdf-7a40-451c-9d89-254adb2833ff",
   "metadata": {},
   "outputs": [],
   "source": []
  },
  {
   "cell_type": "code",
   "execution_count": 15,
   "id": "5f1f8bf4-10a8-408e-aa3b-dcd7328ceb93",
   "metadata": {},
   "outputs": [],
   "source": [
    "from PIL import Image\n",
    "import piexif\n",
    "\n",
    "def get_image_metadata(image_path):\n",
    "    # Open the image file\n",
    "    img = Image.open(image_path)\n",
    "    \n",
    "    # Extract EXIF data\n",
    "    exif_data = piexif.load(img.info['exif'])\n",
    "    \n",
    "    # Print the metadata\n",
    "    for ifd in exif_data:\n",
    "        print(f\"\\n{ifd}:\")\n",
    "        for tag in exif_data[ifd]:\n",
    "            tag_name = piexif.TAGS[ifd][tag][\"name\"]\n",
    "            tag_value = exif_data[ifd][tag]\n",
    "            print(f\"  {tag_name}: {tag_value}\")\n",
    "\n"
   ]
  },
  {
   "cell_type": "code",
   "execution_count": 16,
   "id": "556614d6-70ee-4d8b-9aa1-5cea2e9afa8a",
   "metadata": {},
   "outputs": [
    {
     "ename": "KeyError",
     "evalue": "'exif'",
     "output_type": "error",
     "traceback": [
      "\u001b[1;31m---------------------------------------------------------------------------\u001b[0m",
      "\u001b[1;31mKeyError\u001b[0m                                  Traceback (most recent call last)",
      "Cell \u001b[1;32mIn[16], line 3\u001b[0m\n\u001b[0;32m      1\u001b[0m \u001b[38;5;66;03m# Example usage\u001b[39;00m\n\u001b[0;32m      2\u001b[0m image_path \u001b[38;5;241m=\u001b[39m \u001b[38;5;124m\"\u001b[39m\u001b[38;5;124mFer2.png\u001b[39m\u001b[38;5;124m\"\u001b[39m\n\u001b[1;32m----> 3\u001b[0m get_image_metadata(image_path)\n",
      "Cell \u001b[1;32mIn[15], line 9\u001b[0m, in \u001b[0;36mget_image_metadata\u001b[1;34m(image_path)\u001b[0m\n\u001b[0;32m      6\u001b[0m img \u001b[38;5;241m=\u001b[39m Image\u001b[38;5;241m.\u001b[39mopen(image_path)\n\u001b[0;32m      8\u001b[0m \u001b[38;5;66;03m# Extract EXIF data\u001b[39;00m\n\u001b[1;32m----> 9\u001b[0m exif_data \u001b[38;5;241m=\u001b[39m piexif\u001b[38;5;241m.\u001b[39mload(img\u001b[38;5;241m.\u001b[39minfo[\u001b[38;5;124m'\u001b[39m\u001b[38;5;124mexif\u001b[39m\u001b[38;5;124m'\u001b[39m])\n\u001b[0;32m     11\u001b[0m \u001b[38;5;66;03m# Print the metadata\u001b[39;00m\n\u001b[0;32m     12\u001b[0m \u001b[38;5;28;01mfor\u001b[39;00m ifd \u001b[38;5;129;01min\u001b[39;00m exif_data:\n",
      "\u001b[1;31mKeyError\u001b[0m: 'exif'"
     ]
    }
   ],
   "source": [
    "# Example usage\n",
    "image_path = \"Fer2.png\"\n",
    "get_image_metadata(image_path)"
   ]
  },
  {
   "cell_type": "code",
   "execution_count": 17,
   "id": "a8957519-0e82-4026-a2ff-753680f0e387",
   "metadata": {},
   "outputs": [
    {
     "name": "stdout",
     "output_type": "stream",
     "text": [
      "La imagen no contiene datos EXIF.\n"
     ]
    }
   ],
   "source": [
    "from PIL import Image\n",
    "\n",
    "# Cargar la imagen\n",
    "image_path = \"Fer2.png\"\n",
    "img = Image.open(image_path)\n",
    "\n",
    "# Verificar si hay datos EXIF\n",
    "if 'exif' in img.info:\n",
    "    print(\"La imagen contiene datos EXIF.\")\n",
    "else:\n",
    "    print(\"La imagen no contiene datos EXIF.\")"
   ]
  },
  {
   "cell_type": "code",
   "execution_count": null,
   "id": "108c6f0f-107f-4229-884d-5d79976d01b3",
   "metadata": {},
   "outputs": [],
   "source": []
  }
 ],
 "metadata": {
  "kernelspec": {
   "display_name": "Python 3 (ipykernel)",
   "language": "python",
   "name": "python3"
  },
  "language_info": {
   "codemirror_mode": {
    "name": "ipython",
    "version": 3
   },
   "file_extension": ".py",
   "mimetype": "text/x-python",
   "name": "python",
   "nbconvert_exporter": "python",
   "pygments_lexer": "ipython3",
   "version": "3.12.8"
  }
 },
 "nbformat": 4,
 "nbformat_minor": 5
}
