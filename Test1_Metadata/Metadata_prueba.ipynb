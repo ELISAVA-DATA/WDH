{
 "cells": [
  {
   "cell_type": "code",
   "execution_count": 1,
   "id": "d1072fdf-7a40-451c-9d89-254adb2833ff",
   "metadata": {},
   "outputs": [
    {
     "name": "stdout",
     "output_type": "stream",
     "text": [
      "Requirement already satisfied: Pillow in c:\\users\\julia\\anaconda3\\envs\\elisava\\lib\\site-packages (11.0.0)\n",
      "Requirement already satisfied: piexif in c:\\users\\julia\\anaconda3\\envs\\elisava\\lib\\site-packages (1.1.3)\n"
     ]
    }
   ],
   "source": [
    "!pip install Pillow piexif"
   ]
  },
  {
   "cell_type": "code",
   "execution_count": 4,
   "id": "5f1f8bf4-10a8-408e-aa3b-dcd7328ceb93",
   "metadata": {},
   "outputs": [],
   "source": [
    "from PIL import Image\n",
    "import piexif\n",
    "\n",
    "def get_image_metadata(image_path):\n",
    "    # Open the image file\n",
    "    img = Image.open(image_path)\n",
    "    \n",
    "    # Extract EXIF data\n",
    "    exif_data = piexif.load(img.info['exif'])\n",
    "    \n",
    "    # Print the metadata\n",
    "    for ifd in exif_data:\n",
    "        print(f\"\\n{ifd}:\")\n",
    "        for tag in exif_data[ifd]:\n",
    "            tag_name = piexif.TAGS[ifd][tag][\"name\"]\n",
    "            tag_value = exif_data[ifd][tag]\n",
    "            print(f\"  {tag_name}: {tag_value}\")\n",
    "\n"
   ]
  },
  {
   "cell_type": "code",
   "execution_count": 6,
   "id": "556614d6-70ee-4d8b-9aa1-5cea2e9afa8a",
   "metadata": {},
   "outputs": [
    {
     "name": "stdout",
     "output_type": "stream",
     "text": [
      "\n",
      "0th:\n",
      "  Make: b'Apple'\n",
      "  Model: b'iPhone SE (2nd generation)'\n",
      "  Orientation: 6\n",
      "  XResolution: (72, 1)\n",
      "  YResolution: (72, 1)\n",
      "  ResolutionUnit: 2\n",
      "  Software: b'17.5.1'\n",
      "  DateTime: b'2024:10:18 17:56:31'\n",
      "  HostComputer: b'iPhone SE (2nd generation)'\n",
      "  YCbCrPositioning: 1\n",
      "  ExifTag: 252\n",
      "\n",
      "Exif:\n",
      "  ExposureTime: (1, 100)\n",
      "  FNumber: (9, 5)\n",
      "  ExposureProgram: 2\n",
      "  ISOSpeedRatings: 32\n",
      "  ExifVersion: b'0232'\n",
      "  DateTimeOriginal: b'2024:10:18 17:56:31'\n",
      "  DateTimeDigitized: b'2024:10:18 17:56:31'\n",
      "  OffsetTime: b'+02:00'\n",
      "  OffsetTimeOriginal: b'+02:00'\n",
      "  OffsetTimeDigitized: b'+02:00'\n",
      "  ComponentsConfiguration: b'\\x01\\x02\\x03\\x00'\n",
      "  ShutterSpeedValue: (6287, 946)\n",
      "  ApertureValue: (54823, 32325)\n",
      "  BrightnessValue: (71201, 12604)\n",
      "  ExposureBiasValue: (0, 1)\n",
      "  MeteringMode: 3\n",
      "  Flash: 16\n",
      "  FocalLength: (399, 100)\n",
      "  SubjectArea: (2356, 1251, 751, 756)\n",
      "  MakerNote: b'Apple iOS\\x00\\x00\\x01MM\\x00(\\x00\\x01\\x00\\t\\x00\\x00\\x00\\x01\\x00\\x00\\x00\\x0e\\x00\\x02\\x00\\x07\\x00\\x00\\x02\\x00\\x00\\x00\\x01\\xf4\\x00\\x03\\x00\\x07\\x00\\x00\\x00h\\x00\\x00\\x03\\xf4\\x00\\x04\\x00\\t\\x00\\x00\\x00\\x01\\x00\\x00\\x00\\x00\\x00\\x05\\x00\\t\\x00\\x00\\x00\\x01\\x00\\x00\\x00\\xe0\\x00\\x06\\x00\\t\\x00\\x00\\x00\\x01\\x00\\x00\\x00\\xd6\\x00\\x07\\x00\\t\\x00\\x00\\x00\\x01\\x00\\x00\\x00\\x01\\x00\\x08\\x00\\n\\x00\\x00\\x00\\x03\\x00\\x00\\x04\\\\\\x00\\x0c\\x00\\n\\x00\\x00\\x00\\x02\\x00\\x00\\x04t\\x00\\r\\x00\\t\\x00\\x00\\x00\\x01\\x00\\x00\\x000\\x00\\x0e\\x00\\t\\x00\\x00\\x00\\x01\\x00\\x00\\x00\\x00\\x00\\x10\\x00\\t\\x00\\x00\\x00\\x01\\x00\\x00\\x00\\x01\\x00\\x11\\x00\\x02\\x00\\x00\\x00%\\x00\\x00\\x04\\x84\\x00\\x14\\x00\\t\\x00\\x00\\x00\\x01\\x00\\x00\\x00\\n\\x00\\x16\\x00\\x07\\x00\\x00\\x00H\\x00\\x00\\x04\\xa9\\x00\\x17\\x00\\x10\\x00\\x00\\x00\\x01\\x00\\x00\\x04\\xf1\\x00\\x19\\x00\\t\\x00\\x00\\x00\\x01\\x00\\x00\\x00\\x02\\x00\\x1a\\x00\\x02\\x00\\x00\\x00\\x06\\x00\\x00\\x04\\xf9\\x00\\x1f\\x00\\t\\x00\\x00\\x00\\x01\\x00\\x00\\x00\\x00\\x00 \\x00\\x02\\x00\\x00\\x00%\\x00\\x00\\x04\\xff\\x00!\\x00\\n\\x00\\x00\\x00\\x01\\x00\\x00\\x05$\\x00#\\x00\\t\\x00\\x00\\x00\\x02\\x00\\x00\\x05,\\x00%\\x00\\x10\\x00\\x00\\x00\\x01\\x00\\x00\\x054\\x00&\\x00\\t\\x00\\x00\\x00\\x01\\x00\\x00\\x00\\x03\\x00\\'\\x00\\n\\x00\\x00\\x00\\x01\\x00\\x00\\x05<\\x00(\\x00\\t\\x00\\x00\\x00\\x01\\x00\\x00\\x00\\x01\\x00+\\x00\\x02\\x00\\x00\\x00%\\x00\\x00\\x05D\\x00-\\x00\\t\\x00\\x00\\x00\\x01\\x00\\x00\\x1a\\x11\\x00.\\x00\\t\\x00\\x00\\x00\\x01\\x00\\x00\\x00\\x01\\x00/\\x00\\t\\x00\\x00\\x00\\x01\\x00\\x00\\x00\\xd3\\x006\\x00\\t\\x00\\x00\\x00\\x01\\x00\\x00\\x1ar\\x007\\x00\\t\\x00\\x00\\x00\\x01\\x00\\x00\\x00\\x04\\x00;\\x00\\t\\x00\\x00\\x00\\x01\\x00\\x00\\x00\\x01\\x00<\\x00\\t\\x00\\x00\\x00\\x01\\x00\\x00\\x00\\x04\\x00A\\x00\\t\\x00\\x00\\x00\\x01\\x00\\x00\\x00\\x00\\x00J\\x00\\t\\x00\\x00\\x00\\x01\\x00\\x00\\x00\\x02\\x00M\\x00\\n\\x00\\x00\\x00\\x01\\x00\\x00\\x05i\\x00N\\x00\\x07\\x00\\x00\\x00y\\x00\\x00\\x05q\\x00O\\x00\\x07\\x00\\x00\\x00+\\x00\\x00\\x05\\xea\\x00S\\x00\\t\\x00\\x00\\x00\\x01\\x00\\x00\\x00\\x01\\x00\\x00\\x00\\x00`\\x01p\\x01\\x87\\x01\\x99\\x01\\xa9\\x01\\xb3\\x01\\xb0\\x01\\xae\\x01\\xac\\x01\\xa8\\x01\\xa3\\x01\\x9e\\x01\\x99\\x01\\x94\\x01\\x87\\x01\\x7f\\x01h\\x01z\\x01\\x93\\x01\\xa3\\x01\\xae\\x01\\xb5\\x01\\xaf\\x01\\xaa\\x01\\xa6\\x01\\xa0\\x01\\x9d\\x01\\x98\\x01\\x95\\x01\\x90\\x01\\x87\\x01~\\x01r\\x01\\x86\\x01\\xa0\\x01\\xad\\x01\\xb5\\x01\\xb5\\x01\\xb0\\x01\\xa5\\x01\\x98\\x01\\x93\\x01\\x91\\x01\\x91\\x01\\x90\\x01\\x8d\\x01\\x89\\x01~\\x01}\\x01\\x94\\x01\\xaa\\x01\\xb8\\x01\\xbc\\x01\\xb9\\x01\\xb1\\x01s\\x01.\\x01\\\\\\x01u\\x01\\x84\\x01\\x8a\\x01\\x8a\\x01\\x88\\x01z\\x01\\x87\\x01\\xa2\\x01\\xb3\\x01\\xbf\\x01\\xc1\\x01\\xbd\\x01\\xaf\\x01\\xa0\\x00l\\x00\\xd2\\x00.\\x01d\\x01\\x84\\x01\\x85\\x01\\x85\\x01|\\x01\\x93\\x01\\xae\\x01\\xbd\\x01\\xc8\\x01\\xc8\\x01\\xc1\\x01\\xaf\\x01L\\x008\\x00J\\x00\\xa0\\x00\\x1e\\x01\\x7f\\x01\\x84\\x01\\x83\\x01{\\x01\\x9e\\x01\\xb9\\x01\\xc8\\x01\\xd0\\x01\\xcf\\x01\\xc3\\x01@\\x012\\x00/\\x000\\x006\\x00\\xff\\x00|\\x01\\x82\\x01\\x81\\x01z\\x01\\xa9\\x01\\xc3\\x01\\xd3\\x01\\xd6\\x01\\xd2\\x01\\xc5\\x01\\xef\\x00?\\x006\\x000\\x00?\\x001\\x01z\\x01\\x81\\x01\\x82\\x01|\\x01\\xb3\\x01\\xcc\\x01\\xda\\x01\\xdd\\x01\\xd7\\x01\\xc5\\x01\\xb7\\x00F\\x00:\\x001\\x00p\\x00b\\x01~\\x01\\x83\\x01\\x83\\x01|\\x01\\xb6\\x01\\xd2\\x01\\xdd\\x01\\xe0\\x01\\xda\\x01\\xa4\\x018\\x009\\x00>\\x00>\\x00\\xe1\\x00t\\x01\\x83\\x01\\x86\\x01\\x84\\x01|\\x01\\xb3\\x01\\xd0\\x01\\xdf\\x01\\xe0\\x01\\xdb\\x01<\\x01A\\x00A\\x00E\\x00H\\x00;\\x01\\x7f\\x01\\x88\\x01\\x89\\x01\\x87\\x01~\\x01\\xaa\\x01\\xc8\\x01\\xda\\x01\\xde\\x01\\xd8\\x01\\xbb\\x01\\x9e\\x001\\x00B\\x00\\x97\\x00q\\x01\\x89\\x01\\x8d\\x01\\x8c\\x01\\x88\\x01\\x7f\\x01\\x99\\x01\\xb7\\x01\\xcc\\x01\\xd5\\x01\\xd3\\x01\\xcc\\x01\\x8d\\x01I\\x00I\\x00\\x1f\\x01\\x83\\x01\\x91\\x01\\x92\\x01\\x90\\x01\\x8a\\x01\\x7f\\x01}\\x01\\x9a\\x01\\xb5\\x01\\xc5\\x01\\xcb\\x01\\xca\\x01\\xbe\\x01\\xf4\\x00\\x9e\\x00p\\x01\\x91\\x01\\x97\\x01\\x97\\x01\\x94\\x01\\x90\\x01\\x83\\x01X\\x01t\\x01\\x96\\x01\\xb1\\x01\\xc0\\x01\\xc8\\x01\\xc2\\x01\\xb2\\x01\\x93\\x01\\x98\\x01\\x9d\\x01\\x9d\\x01\\x9b\\x01\\x96\\x01\\x8e\\x01\\x86\\x01.\\x01L\\x01r\\x01\\x99\\x01\\xb3\\x01\\xc2\\x01\\xc5\\x01\\xba\\x01\\xb1\\x01\\xab\\x01\\xa6\\x01\\xa4\\x01\\x9e\\x01\\x97\\x01\\x8f\\x01\\x85\\x01bplist00\\xd4\\x01\\x02\\x03\\x04\\x05\\x06\\x07\\x08UflagsUvalueYtimescaleUepoch\\x10\\x01\\x13\\x00\\x02\\xd5\\x8f\\xc8\\xa5M\\xdc\\x12;\\x9a\\xca\\x00\\x10\\x00\\x08\\x11\\x17\\x1d\\'-/8=\\x00\\x00\\x00\\x00\\x00\\x00\\x01\\x01\\x00\\x00\\x00\\x00\\x00\\x00\\x00\\t\\x00\\x00\\x00\\x00\\x00\\x00\\x00\\x00\\x00\\x00\\x00\\x00\\x00\\x00\\x00?\\xff\\xff6c\\x00\\x03\\xe9=\\xff\\xff\\xa2\\xd5\\x00\\x00\\x87\\x99\\xff\\xff\\xb3\\x91\\x00\\x00o<\\x00\\x00\\x00\\x11\\x00\\x00\\x00@\\x00\\x00\\x00C\\x00\\x00\\x00\\x80659B46D0-3E0E-435E-9D0E-1A1E6D305380\\x00bplist00_\\x10\\x1cAYVuecYhwkmcupUt9tbd4Vk5aGit\\x08\\x00\\x00\\x00\\x00\\x00\\x00\\x01\\x01\\x00\\x00\\x00\\x00\\x00\\x00\\x00\\x01\\x00\\x00\\x00\\x00\\x00\\x00\\x00\\x00\\x00\\x00\\x00\\x00\\x00\\x00\\x00\\'\\x00\\x00\\x00\\x00\"P \\x00q825s\\x001F999476-2FDC-493D-BEBF-4D4314D39E8B\\x00\\x00\\x00\\x00\\x00\\x00\\x00\\x00\\x01\\x00\\x00\\x00\\n\\x10\\x00\\x00k\\x00\\x00\\x00\\x00\\x00\\x00\\x00\\x8a\\x00\\x02|\\x96\\x00\\x00\\x0eoA605BA66-9B90-416B-A111-CC2424252B89\\x00\\x00\\x00\\x009\\x00\\x00\\x00\\x01bplist00\\xd2\\x01\\x02\\x03\\x04Q1Q2\\x10\\x01\\xa2\\x05\\n\\xd2\\x06\\x07\\x08\\tS2.1S2.2#@H\\xfcv\\x80\\x00\\x00\\x00#@\\x83h\\x00\\x00\\x00\\x00\\x00\\xd2\\x06\\x07\\x0b\\x0c#\\x00\\x00\\x00\\x00\\x00\\x00\\x00\\x00#@&\\x00\\x00\\x00\\x00\\x00\\x00\\x08\\r\\x0f\\x11\\x13\\x16\\x1b\\x1f#,5:C\\x00\\x00\\x00\\x00\\x00\\x00\\x01\\x01\\x00\\x00\\x00\\x00\\x00\\x00\\x00\\r\\x00\\x00\\x00\\x00\\x00\\x00\\x00\\x00\\x00\\x00\\x00\\x00\\x00\\x00\\x00Lbplist00\\x10\\x00\\x08\\x00\\x00\\x00\\x00\\x00\\x00\\x01\\x01\\x00\\x00\\x00\\x00\\x00\\x00\\x00\\x01\\x00\\x00\\x00\\x00\\x00\\x00\\x00\\x00\\x00\\x00\\x00\\x00\\x00\\x00\\x00\\n'\n",
      "  SubSecTimeOriginal: b'770'\n",
      "  SubSecTimeDigitized: b'770'\n",
      "  FlashpixVersion: b'0100'\n",
      "  ColorSpace: 65535\n",
      "  PixelXDimension: 4032\n",
      "  PixelYDimension: 3024\n",
      "  SensingMethod: 2\n",
      "  SceneType: b'\\x01'\n",
      "  ExposureMode: 0\n",
      "  WhiteBalance: 0\n",
      "  FocalLengthIn35mmFilm: 28\n",
      "  SceneCaptureType: 0\n",
      "  LensSpecification: ((4183519, 1048501), (4183519, 1048501), (9, 5), (9, 5))\n",
      "  LensMake: b'Apple'\n",
      "  LensModel: b'iPhone SE (2nd generation) back camera 3.99mm f/1.8'\n",
      "\n",
      "GPS:\n",
      "\n",
      "Interop:\n",
      "\n",
      "1st:\n",
      "  Compression: 6\n",
      "  XResolution: (72, 1)\n",
      "  YResolution: (72, 1)\n",
      "  ResolutionUnit: 2\n",
      "  JPEGInterchangeFormat: 2560\n",
      "  JPEGInterchangeFormatLength: 3737\n",
      "\n",
      "thumbnail:\n"
     ]
    },
    {
     "ename": "KeyError",
     "evalue": "'thumbnail'",
     "output_type": "error",
     "traceback": [
      "\u001b[1;31m---------------------------------------------------------------------------\u001b[0m",
      "\u001b[1;31mKeyError\u001b[0m                                  Traceback (most recent call last)",
      "Cell \u001b[1;32mIn[6], line 3\u001b[0m\n\u001b[0;32m      1\u001b[0m \u001b[38;5;66;03m# Example usage\u001b[39;00m\n\u001b[0;32m      2\u001b[0m image_path \u001b[38;5;241m=\u001b[39m \u001b[38;5;124m\"\u001b[39m\u001b[38;5;124mIMG_6862.jpg\u001b[39m\u001b[38;5;124m\"\u001b[39m\n\u001b[1;32m----> 3\u001b[0m get_image_metadata(image_path)\n",
      "Cell \u001b[1;32mIn[4], line 15\u001b[0m, in \u001b[0;36mget_image_metadata\u001b[1;34m(image_path)\u001b[0m\n\u001b[0;32m     13\u001b[0m \u001b[38;5;28mprint\u001b[39m(\u001b[38;5;124mf\u001b[39m\u001b[38;5;124m\"\u001b[39m\u001b[38;5;130;01m\\n\u001b[39;00m\u001b[38;5;132;01m{\u001b[39;00mifd\u001b[38;5;132;01m}\u001b[39;00m\u001b[38;5;124m:\u001b[39m\u001b[38;5;124m\"\u001b[39m)\n\u001b[0;32m     14\u001b[0m \u001b[38;5;28;01mfor\u001b[39;00m tag \u001b[38;5;129;01min\u001b[39;00m exif_data[ifd]:\n\u001b[1;32m---> 15\u001b[0m     tag_name \u001b[38;5;241m=\u001b[39m piexif\u001b[38;5;241m.\u001b[39mTAGS[ifd][tag][\u001b[38;5;124m\"\u001b[39m\u001b[38;5;124mname\u001b[39m\u001b[38;5;124m\"\u001b[39m]\n\u001b[0;32m     16\u001b[0m     tag_value \u001b[38;5;241m=\u001b[39m exif_data[ifd][tag]\n\u001b[0;32m     17\u001b[0m     \u001b[38;5;28mprint\u001b[39m(\u001b[38;5;124mf\u001b[39m\u001b[38;5;124m\"\u001b[39m\u001b[38;5;124m  \u001b[39m\u001b[38;5;132;01m{\u001b[39;00mtag_name\u001b[38;5;132;01m}\u001b[39;00m\u001b[38;5;124m: \u001b[39m\u001b[38;5;132;01m{\u001b[39;00mtag_value\u001b[38;5;132;01m}\u001b[39;00m\u001b[38;5;124m\"\u001b[39m)\n",
      "\u001b[1;31mKeyError\u001b[0m: 'thumbnail'"
     ]
    }
   ],
   "source": [
    "# Example usage\n",
    "image_path = \"IMG_6862.jpg\"\n",
    "get_image_metadata(image_path)"
   ]
  },
  {
   "cell_type": "code",
   "execution_count": null,
   "id": "a8957519-0e82-4026-a2ff-753680f0e387",
   "metadata": {},
   "outputs": [],
   "source": []
  }
 ],
 "metadata": {
  "kernelspec": {
   "display_name": "Python 3 (ipykernel)",
   "language": "python",
   "name": "python3"
  },
  "language_info": {
   "codemirror_mode": {
    "name": "ipython",
    "version": 3
   },
   "file_extension": ".py",
   "mimetype": "text/x-python",
   "name": "python",
   "nbconvert_exporter": "python",
   "pygments_lexer": "ipython3",
   "version": "3.12.8"
  }
 },
 "nbformat": 4,
 "nbformat_minor": 5
}
