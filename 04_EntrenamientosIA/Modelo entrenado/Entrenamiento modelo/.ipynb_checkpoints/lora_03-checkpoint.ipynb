{
 "cells": [
  {
   "cell_type": "code",
   "execution_count": null,
   "id": "2ac62598-defe-4115-9699-f2e4f7983f45",
   "metadata": {},
   "outputs": [],
   "source": [
    "import torch\n",
    "from torch import nn, optim\n",
    "import torchvision\n",
    "from torchvision import datasets, transforms\n",
    "from torch.utils.data import DataLoader\n",
    "\n",
    "# Cargar un modelo preentrenado, por ejemplo, ResNet50\n",
    "model = torchvision.models.resnet50(pretrained=True)\n",
    "\n",
    "# Asegúrate de que el modelo esté en la misma ubicación que los datos (en la GPU)\n",
    "device = torch.device('cuda' if torch.cuda.is_available() else 'cpu')\n",
    "model = model.to(device)\n",
    "\n",
    "# Congelar todos los parámetros del modelo\n",
    "for param in model.parameters():\n",
    "    param.requires_grad = False\n",
    "\n",
    "# Ahora, activar los gradientes solo para las capas que quieres entrenar\n",
    "# Ejemplo: si estamos usando LoRA, activamos los gradientes en las capas modificadas\n",
    "for param in model.layer4.parameters():  # Asumiendo que layer4 es la capa modificada por LoRA\n",
    "    param.requires_grad = True\n",
    "\n",
    "# Imprimir los parámetros que están siendo entrenados\n",
    "print(\"Parámetros entrenables:\")\n",
    "for name, param in model.named_parameters():\n",
    "    if param.requires_grad:\n",
    "        print(f\" - {name}\")\n",
    "\n",
    "# Definir las transformaciones\n",
    "transform = transforms.Compose([\n",
    "    transforms.Resize((512, 512)),\n",
    "    transforms.ToTensor(),\n",
    "    transforms.Normalize(mean=[0.485, 0.456, 0.406], std=[0.229, 0.224, 0.225])  # Normalización similar a la de ImageNet\n",
    "])\n",
    "\n",
    "# Cargar el conjunto de datos\n",
    "dataset = datasets.CIFAR10(root='Pruebalora2', train=True, download=True, transform=transform)\n",
    "train_loader = DataLoader(dataset, batch_size=32, shuffle=True)\n",
    "\n",
    "# Definir el optimizador (aquí estamos entrenando LoRA)\n",
    "optimizer = optim.Adam(filter(lambda p: p.requires_grad, model.parameters()), lr=1e-4)\n",
    "\n",
    "# Definir la función de pérdida\n",
    "criterion = nn.CrossEntropyLoss()\n",
    "\n",
    "# Ajuste fino (Fine-Tuning)\n",
    "epochs = 10\n",
    "for epoch in range(epochs):\n",
    "    epoch_loss = 0\n",
    "    model.train()  # Establecer el modelo en modo entrenamiento\n",
    "    for batch_idx, (images, labels) in enumerate(train_loader):\n",
    "        \n",
    "        # Enviar imágenes y etiquetas al dispositivo (si usas GPU)\n",
    "        images, labels = images.to(device), labels.to(device)\n",
    "\n",
    "        # Adelante (Forward)\n",
    "        outputs = model(images)\n",
    "        loss = criterion(outputs, labels)\n",
    "\n",
    "        # Retropropagación (Backward)\n",
    "        loss.backward()\n",
    "        optimizer.step()\n",
    "        optimizer.zero_grad()\n",
    "\n",
    "        epoch_loss += loss.item()\n",
    "\n",
    "        # Imprimir la pérdida de cada lote\n",
    "        if (batch_idx + 1) % 10 == 0:  # Imprimir cada 10 lotes\n",
    "            print(f\"Epoch [{epoch+1}/{epochs}], Batch [{batch_idx+1}/{len(train_loader)}], Loss: {loss.item():.4f}\")\n",
    "\n",
    "    # Imprimir la pérdida promedio de la época\n",
    "    print(f\"Epoch {epoch + 1}/{epochs}, Average Loss: {epoch_loss/len(train_loader):.4f}\")\n"
   ]
  },
  {
   "cell_type": "code",
   "execution_count": null,
   "id": "69aaf7e7-e9ef-4d1e-85b0-6c24d3c153c5",
   "metadata": {},
   "outputs": [],
   "source": [
    "# Guardar el modelo entrenado\n",
    "model_path = 'modelo_entrenado.pth'  # Puedes cambiar el nombre de archivo y la ruta\n",
    "torch.save(model.state_dict(), model_path)\n",
    "print(f\"Modelo guardado en {model_path}\")"
   ]
  },
  {
   "cell_type": "code",
   "execution_count": 32,
   "id": "f873c631-8b10-41ad-b9d9-b32b925a066d",
   "metadata": {},
   "outputs": [
    {
     "name": "stdout",
     "output_type": "stream",
     "text": [
      "True\n"
     ]
    }
   ],
   "source": [
    "import torch\n",
    "print(torch.cuda.is_available())  # Debería devolver True si CUDA está disponible\n"
   ]
  },
  {
   "cell_type": "code",
   "execution_count": 9,
   "id": "808914d2-341e-427a-9f48-9dffdae79726",
   "metadata": {},
   "outputs": [
    {
     "name": "stdout",
     "output_type": "stream",
     "text": [
      "^C\n",
      "Note: you may need to restart the kernel to use updated packages.\n"
     ]
    }
   ],
   "source": [
    "pip install torch torchvision torchaudio --index-url https://download.pytorch.org/whl/cu124"
   ]
  },
  {
   "cell_type": "code",
   "execution_count": null,
   "id": "03a42aa4-1271-41a8-ad7a-7df0254edb03",
   "metadata": {},
   "outputs": [],
   "source": [
    "pip list"
   ]
  },
  {
   "cell_type": "code",
   "execution_count": null,
   "id": "a251e2a6-f311-480d-8bb3-06f459aa090c",
   "metadata": {},
   "outputs": [],
   "source": [
    "import torch\n",
    "print(f\"CUDA disponible: {torch.cuda.is_available()}\")\n",
    "print(f\"Nombre de la GPU: {t63orch.cuda.get_device_name(0)}\")\n"
   ]
  },
  {
   "cell_type": "code",
   "execution_count": null,
   "id": "e4da712e-d276-4dfa-b9bc-138e9ea16948",
   "metadata": {},
   "outputs": [],
   "source": []
  }
 ],
 "metadata": {
  "kernelspec": {
   "display_name": "Python [conda env:base] *",
   "language": "python",
   "name": "conda-base-py"
  },
  "language_info": {
   "codemirror_mode": {
    "name": "ipython",
    "version": 3
   },
   "file_extension": ".py",
   "mimetype": "text/x-python",
   "name": "python",
   "nbconvert_exporter": "python",
   "pygments_lexer": "ipython3",
   "version": "3.12.7"
  }
 },
 "nbformat": 4,
 "nbformat_minor": 5
}
