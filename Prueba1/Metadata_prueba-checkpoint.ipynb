{
 "cells": [
  {
   "cell_type": "code",
   "execution_count": 1,
   "id": "d1072fdf-7a40-451c-9d89-254adb2833ff",
   "metadata": {},
   "outputs": [
    {
     "name": "stdout",
     "output_type": "stream",
     "text": [
      "Requirement already satisfied: Pillow in c:\\users\\lucia\\anaconda3\\envs\\entorno1\\lib\\site-packages (11.0.0)\n",
      "Collecting piexif\n",
      "  Downloading piexif-1.1.3-py2.py3-none-any.whl.metadata (3.7 kB)\n",
      "Downloading piexif-1.1.3-py2.py3-none-any.whl (20 kB)\n",
      "Installing collected packages: piexif\n",
      "Successfully installed piexif-1.1.3\n"
     ]
    }
   ],
   "source": [
    "!pip install Pillow piexif"
   ]
  },
  {
   "cell_type": "code",
   "execution_count": 2,
   "id": "5f1f8bf4-10a8-408e-aa3b-dcd7328ceb93",
   "metadata": {},
   "outputs": [],
   "source": [
    "from PIL import Image\n",
    "import piexif\n",
    "\n",
    "def get_image_metadata(image_path):\n",
    "    # Open the image file\n",
    "    img = Image.open(image_path)\n",
    "    \n",
    "    # Extract EXIF data\n",
    "    exif_data = piexif.load(img.info['exif'])\n",
    "    \n",
    "    # Print the metadata\n",
    "    for ifd in exif_data:\n",
    "        print(f\"\\n{ifd}:\")\n",
    "        for tag in exif_data[ifd]:\n",
    "            tag_name = piexif.TAGS[ifd][tag][\"name\"]\n",
    "            tag_value = exif_data[ifd][tag]\n",
    "            print(f\"  {tag_name}: {tag_value}\")\n",
    "\n"
   ]
  },
  {
   "cell_type": "code",
   "execution_count": 10,
   "id": "556614d6-70ee-4d8b-9aa1-5cea2e9afa8a",
   "metadata": {},
   "outputs": [
    {
     "name": "stdout",
     "output_type": "stream",
     "text": [
      "\n",
      "0th:\n",
      "  Make: b'Apple'\n",
      "  Model: b'iPhone 15'\n",
      "  Orientation: 6\n",
      "  XResolution: (72, 1)\n",
      "  YResolution: (72, 1)\n",
      "  ResolutionUnit: 2\n",
      "  Software: b'17.5.1'\n",
      "  DateTime: b'2025:01:22 21:06:53'\n",
      "  HostComputer: b'iPhone 15'\n",
      "  YCbCrPositioning: 1\n",
      "  ExifTag: 228\n",
      "  GPSTag: 2614\n",
      "\n",
      "Exif:\n",
      "  ExposureTime: (1, 50)\n",
      "  FNumber: (8, 5)\n",
      "  ExposureProgram: 2\n",
      "  ISOSpeedRatings: 125\n",
      "  ExifVersion: b'0232'\n",
      "  DateTimeOriginal: b'2025:01:22 21:06:53'\n",
      "  DateTimeDigitized: b'2025:01:22 21:06:53'\n",
      "  OffsetTime: b'+01:00'\n",
      "  OffsetTimeOriginal: b'+01:00'\n",
      "  OffsetTimeDigitized: b'+01:00'\n",
      "  ComponentsConfiguration: b'\\x01\\x02\\x03\\x00'\n",
      "  ShutterSpeedValue: (73388, 13003)\n",
      "  ApertureValue: (14447, 10653)\n",
      "  BrightnessValue: (52263, 20723)\n",
      "  ExposureBiasValue: (0, 1)\n",
      "  MeteringMode: 3\n",
      "  Flash: 16\n",
      "  FocalLength: (149, 25)\n",
      "  SubjectArea: (1541, 2139, 1059, 1066)\n",
      "  MakerNote: b'Apple iOS\\x00\\x00\\x01MM\\x000\\x00\\x01\\x00\\t\\x00\\x00\\x00\\x01\\x00\\x00\\x00\\x0e\\x00\\x02\\x00\\x07\\x00\\x00\\x02\\x00\\x00\\x00\\x02T\\x00\\x03\\x00\\x07\\x00\\x00\\x00h\\x00\\x00\\x04T\\x00\\x04\\x00\\t\\x00\\x00\\x00\\x01\\x00\\x00\\x00\\x01\\x00\\x05\\x00\\t\\x00\\x00\\x00\\x01\\x00\\x00\\x00\\xd5\\x00\\x06\\x00\\t\\x00\\x00\\x00\\x01\\x00\\x00\\x00\\xd5\\x00\\x07\\x00\\t\\x00\\x00\\x00\\x01\\x00\\x00\\x00\\x01\\x00\\x08\\x00\\n\\x00\\x00\\x00\\x03\\x00\\x00\\x04\\xbc\\x00\\x0c\\x00\\n\\x00\\x00\\x00\\x02\\x00\\x00\\x04\\xd4\\x00\\r\\x00\\t\\x00\\x00\\x00\\x01\\xff\\xff\\xff\\xf9\\x00\\x0e\\x00\\t\\x00\\x00\\x00\\x01\\x00\\x00\\x00\\x00\\x00\\x10\\x00\\t\\x00\\x00\\x00\\x01\\x00\\x00\\x00\\x01\\x00\\x11\\x00\\x02\\x00\\x00\\x00%\\x00\\x00\\x04\\xe4\\x00\\x14\\x00\\t\\x00\\x00\\x00\\x01\\x00\\x00\\x00\\x0c\\x00\\x16\\x00\\x07\\x00\\x00\\x00H\\x00\\x00\\x05\\t\\x00\\x17\\x00\\x10\\x00\\x00\\x00\\x01\\x00\\x00\\x05Q\\x00\\x19\\x00\\t\\x00\\x00\\x00\\x01\\x00\\x02 \\x02\\x00\\x1a\\x00\\x02\\x00\\x00\\x00\\x06\\x00\\x00\\x05Y\\x00\\x1f\\x00\\t\\x00\\x00\\x00\\x01\\x00\\x00\\x00\\x00\\x00 \\x00\\x02\\x00\\x00\\x00%\\x00\\x00\\x05_\\x00!\\x00\\n\\x00\\x00\\x00\\x01\\x00\\x00\\x05\\x84\\x00#\\x00\\t\\x00\\x00\\x00\\x02\\x00\\x00\\x05\\x8c\\x00%\\x00\\x10\\x00\\x00\\x00\\x01\\x00\\x00\\x05\\x94\\x00&\\x00\\t\\x00\\x00\\x00\\x01\\x00\\x00\\x00\\x03\\x00\\'\\x00\\n\\x00\\x00\\x00\\x01\\x00\\x00\\x05\\x9c\\x00+\\x00\\x02\\x00\\x00\\x00%\\x00\\x00\\x05\\xa4\\x00-\\x00\\t\\x00\\x00\\x00\\x01\\x00\\x00\\re\\x00.\\x00\\t\\x00\\x00\\x00\\x01\\x00\\x00\\x00\\x01\\x00/\\x00\\t\\x00\\x00\\x00\\x01\\x00\\x00\\x00\\x9b\\x000\\x00\\n\\x00\\x00\\x00\\x01\\x00\\x00\\x05\\xc9\\x006\\x00\\t\\x00\\x00\\x00\\x01\\x00\\x00\\x01\\xcd\\x007\\x00\\t\\x00\\x00\\x00\\x01\\x00\\x00\\x00\\x04\\x00:\\x00\\t\\x00\\x00\\x00\\x01\\x00\\x00\\x00\\x00\\x00;\\x00\\t\\x00\\x00\\x00\\x01\\x00\\x00\\x00\\x00\\x00<\\x00\\t\\x00\\x00\\x00\\x01\\x00\\x00\\x00\\x04\\x00?\\x00\\t\\x00\\x00\\x00\\x01\\x00\\x00\\x00\\x00\\x00@\\x00\\x07\\x00\\x00\\x00J\\x00\\x00\\x05\\xd1\\x00A\\x00\\t\\x00\\x00\\x00\\x01\\x00\\x00\\x00\\x00\\x00C\\x00\\t\\x00\\x00\\x00\\x01\\x00\\x00\\x00\\x00\\x00D\\x00\\t\\x00\\x00\\x00\\x01\\x00\\x00\\x00\\x00\\x00E\\x00\\t\\x00\\x00\\x00\\x01\\x00\\x00\\x00\\x00\\x00F\\x00\\t\\x00\\x00\\x00\\x01\\x00\\x00\\x00\\x00\\x00J\\x00\\t\\x00\\x00\\x00\\x01\\x00\\x00\\x00\\x02\\x00M\\x00\\n\\x00\\x00\\x00\\x01\\x00\\x00\\x06\\x1b\\x00N\\x00\\x07\\x00\\x00\\x00y\\x00\\x00\\x06#\\x00O\\x00\\x07\\x00\\x00\\x00+\\x00\\x00\\x06\\x9c\\x00R\\x00\\t\\x00\\x00\\x00\\x01\\xff\\xff\\xff\\xfe\\x00S\\x00\\t\\x00\\x00\\x00\\x01\\x00\\x00\\x00\\x01\\x00\\x00\\x00\\x002\\x01`\\x01\\x9d\\x01\\xae\\x01\\x00\\x01C\\x006\\x00V\\x01\\x8f\\x01\\x9a\\x01\\x9b\\x01\\x95\\x01\\x93\\x01\\x8c\\x01\\x83\\x01\\x84\\x01\\x1f\\x00G\\x00\\xa1\\x00;\\x01\\x84\\x01\\xea\\x009\\x00\\xd7\\x00\\x92\\x01\\x93\\x01\\x97\\x01\\x96\\x01\\x90\\x01\\x89\\x01\\x81\\x01z\\x01$\\x00;\\x00s\\x00\\xb2\\x00z\\x01\\x8e\\x01r\\x00y\\x00\\x83\\x01\\x8c\\x01\\x90\\x01\\x94\\x01\\x8d\\x01\\x83\\x01x\\x01r\\x01\\x17\\x00&\\x00h\\x00p\\x00j\\x01\\xcd\\x00h\\x00I\\x00w\\x01\\x85\\x01\\x8d\\x01\\x95\\x01\\x8d\\x01~\\x01o\\x01k\\x01=\\x00:\\x00l\\x00u\\x00Q\\x000\\x00g\\x00\\x8c\\x00%\\x01g\\x01\\x8f\\x01\\xa2\\x01\\x94\\x01x\\x01g\\x01e\\x01\\xfe\\x01\\xec\\x01\\xcd\\x01\\x18\\x01Y\\x00+\\x00B\\x00v\\x00\\x80\\x00\\x9a\\x00\\xdc\\x004\\x01\\x99\\x01z\\x01i\\x01j\\x01\\xfa\\x01\\x00\\x02\\xf3\\x01\\'\\x01Y\\x00\\x14\\x00,\\x00e\\x00n\\x00]\\x00\\x88\\x00\\x97\\x00\\xed\\x00m\\x01a\\x01^\\x01\\xf0\\x01\\xfa\\x01\\xe8\\x015\\x01P\\x00\\r\\x00$\\x00U\\x00Z\\x00P\\x00i\\x00o\\x00\\x8c\\x00\\x16\\x01Y\\x01X\\x01\\xdd\\x01\\xec\\x01\\xde\\x01F\\x01Y\\x00\\x0b\\x00 \\x00N\\x00R\\x00C\\x00[\\x00]\\x00g\\x00\\xbc\\x00J\\x01N\\x01\\xc4\\x01\\xd4\\x01\\xcb\\x01T\\x01N\\x00\\x0b\\x00 \\x00K\\x00M\\x008\\x00Q\\x00P\\x00O\\x00\\x9a\\x00\\x1d\\x01J\\x01\\xae\\x01\\xbd\\x01\\xb5\\x01X\\x01B\\x00\\x0c\\x00%\\x00J\\x00L\\x00I\\x00N\\x00K\\x00O\\x00\\x9a\\x00\\xe4\\x00D\\x01\\x98\\x01\\xa6\\x01\\xa1\\x01T\\x01[\\x00\\x12\\x000\\x00U\\x00\\x9d\\x00\\xf5\\x00\\x16\\x01\\xa1\\x00i\\x00\\x9f\\x00\\xcd\\x00$\\x01\\x86\\x01\\x91\\x01\\x8c\\x01N\\x01\\xd4\\x00]\\x00\\xa0\\x00\\x88\\x01!\\x01n\\x01<\\x01\\xbc\\x00m\\x00\\xa2\\x00\\xc6\\x00\\xfc\\x00p\\x01z\\x01u\\x01M\\x01\\xf2\\x00\\x07\\x01\\xe3\\x00g\\x01\\x1c\\x01h\\x012\\x01\\xd6\\x00p\\x00\\xa7\\x00\\xc5\\x00\\xdc\\x00[\\x01e\\x01b\\x01H\\x01\\xf1\\x00\\xe0\\x00\\x01\\x01\\x00\\x018\\x01d\\x01*\\x01\\xec\\x00x\\x00\\xa5\\x00\\xc0\\x00\\xca\\x00N\\x01W\\x01S\\x018\\x01\\xea\\x00\\xdd\\x00\\xed\\x00\\xd1\\x00\\x03\\x01^\\x01#\\x01\\xf6\\x00\\x84\\x00\\xa4\\x00\\xc0\\x00\\xc3\\x00bplist00\\xd4\\x01\\x02\\x03\\x04\\x05\\x06\\x07\\x08UflagsUvalueYtimescaleUepoch\\x10\\x01\\x13\\x00\\x04\\x07\\xb34\\xfb\\xecm\\x12;\\x9a\\xca\\x00\\x10\\x00\\x08\\x11\\x17\\x1d\\'-/8=\\x00\\x00\\x00\\x00\\x00\\x00\\x01\\x01\\x00\\x00\\x00\\x00\\x00\\x00\\x00\\t\\x00\\x00\\x00\\x00\\x00\\x00\\x00\\x00\\x00\\x00\\x00\\x00\\x00\\x00\\x00?\\xff\\xff\\xf3\\x17\\x00\\x03\\xaa\\xb9\\xff\\xfe\\xe5\\x04\\x00\\x014k\\xff\\xff\\xbc\\xae\\x00\\x00\\xa7G\\x00\\x00\\x01\\xd5\\x00\\x00\\x01\\x00\\x00\\x00\\x02_\\x00\\x00\\x00\\x809982777D-6CA2-4A94-AA2D-57037C6CECA1\\x00bplist00_\\x10\\x1cAZ1k1gM5qIhh6fhXVfSoE6EE5lEP\\x08\\x00\\x00\\x00\\x00\\x00\\x00\\x01\\x01\\x00\\x00\\x00\\x00\\x00\\x00\\x00\\x01\\x00\\x00\\x00\\x00\\x00\\x00\\x00\\x00\\x00\\x00\\x00\\x00\\x00\\x00\\x00\\'\\x00\\x00\\x00\\x02\\x00P $q750n\\x00F13616FB-C74B-4FF9-BDD3-3C55A2672D3E\\x00\\x00\\x10(\\xaa\\x00\\x0f\\xff\\xb5\\x00\\x00\\x00\\x13\\x10\\x00\\x00\\'\\x00\\x00\\x00\\x00\\x00\\xb0\\x10\\x8a\\x00\\x04)\\x16\\x00\\x00\\x1asF4ED0F29-73AD-4DF8-AA36-ADF36249286C\\x00\\x00\\x00\\x05E\\x00\\x02\\x14\\x8ebplist00\\xd4\\x01\\x02\\x03\\x04\\x05\\x06\\x06\\x07Q3Q1Q2Q0\\x10\\x00\"\\x00\\x00\\x00\\x00\\x10\\x01\\x08\\x11\\x13\\x15\\x17\\x19\\x1b \\x00\\x00\\x00\\x00\\x00\\x00\\x01\\x01\\x00\\x00\\x00\\x00\\x00\\x00\\x00\\x08\\x00\\x00\\x00\\x00\\x00\\x00\\x00\\x00\\x00\\x00\\x00\\x00\\x00\\x00\\x00\"\\x00\\x02I\\x81\\x00\\x00\\x13\\xeebplist00\\xd2\\x01\\x02\\x03\\x04Q1Q2\\x10\\x01\\xa2\\x05\\n\\xd2\\x06\\x07\\x08\\tS2.1S2.2#@I\\t\\x7f\\x00\\x00\\x00\\x00#@\\xe8\\x87`\\x00\\x00\\x00\\x00\\xd2\\x06\\x07\\x0b\\x0c#\\x00\\x00\\x00\\x00\\x00\\x00\\x00\\x00#@F\\x00\\x00\\x00\\x00\\x00\\x00\\x08\\r\\x0f\\x11\\x13\\x16\\x1b\\x1f#,5:C\\x00\\x00\\x00\\x00\\x00\\x00\\x01\\x01\\x00\\x00\\x00\\x00\\x00\\x00\\x00\\r\\x00\\x00\\x00\\x00\\x00\\x00\\x00\\x00\\x00\\x00\\x00\\x00\\x00\\x00\\x00Lbplist00\\x10\\x00\\x08\\x00\\x00\\x00\\x00\\x00\\x00\\x01\\x01\\x00\\x00\\x00\\x00\\x00\\x00\\x00\\x01\\x00\\x00\\x00\\x00\\x00\\x00\\x00\\x00\\x00\\x00\\x00\\x00\\x00\\x00\\x00\\n'\n",
      "  SubSecTimeOriginal: b'606'\n",
      "  SubSecTimeDigitized: b'606'\n",
      "  FlashpixVersion: b'0100'\n",
      "  ColorSpace: 65535\n",
      "  PixelXDimension: 5712\n",
      "  PixelYDimension: 4284\n",
      "  SensingMethod: 2\n",
      "  SceneType: b'\\x01'\n",
      "  ExposureMode: 0\n",
      "  WhiteBalance: 0\n",
      "  FocalLengthIn35mmFilm: 26\n",
      "  SceneCaptureType: 0\n",
      "  LensSpecification: ((807365, 524263), (6249513, 1048576), (8, 5), (12, 5))\n",
      "  LensMake: b'Apple'\n",
      "  LensModel: b'iPhone 15 back dual wide camera 5.96mm f/1.6'\n",
      "\n",
      "GPS:\n",
      "  GPSLatitudeRef: b'N'\n",
      "  GPSLatitude: ((41, 1), (22, 1), (4339, 100))\n",
      "  GPSLongitudeRef: b'E'\n",
      "  GPSLongitude: ((2, 1), (10, 1), (3421, 100))\n",
      "  GPSAltitudeRef: 0\n",
      "  GPSAltitude: (20952, 3517)\n",
      "  GPSTimeStamp: ((20, 1), (6, 1), (51, 1))\n",
      "  GPSSpeedRef: b'K'\n",
      "  GPSSpeed: (0, 1)\n",
      "  GPSImgDirectionRef: b'T'\n",
      "  GPSImgDirection: (362815, 2727)\n",
      "  GPSDestBearingRef: b'T'\n",
      "  GPSDestBearing: (362815, 2727)\n",
      "  GPSDateStamp: b'2025:01:22'\n",
      "  GPSHPositioningError: (190804, 5779)\n",
      "\n",
      "Interop:\n",
      "\n",
      "1st:\n",
      "  Compression: 6\n",
      "  XResolution: (72, 1)\n",
      "  YResolution: (72, 1)\n",
      "  ResolutionUnit: 2\n",
      "  JPEGInterchangeFormat: 3018\n",
      "  JPEGInterchangeFormatLength: 5694\n",
      "\n",
      "thumbnail:\n"
     ]
    },
    {
     "ename": "KeyError",
     "evalue": "'thumbnail'",
     "output_type": "error",
     "traceback": [
      "\u001b[1;31m---------------------------------------------------------------------------\u001b[0m",
      "\u001b[1;31mKeyError\u001b[0m                                  Traceback (most recent call last)",
      "Cell \u001b[1;32mIn[10], line 3\u001b[0m\n\u001b[0;32m      1\u001b[0m \u001b[38;5;66;03m# Example usage\u001b[39;00m\n\u001b[0;32m      2\u001b[0m image_path \u001b[38;5;241m=\u001b[39m \u001b[38;5;124m\"\u001b[39m\u001b[38;5;124mfer2.jpeg\u001b[39m\u001b[38;5;124m\"\u001b[39m\n\u001b[1;32m----> 3\u001b[0m get_image_metadata(image_path)\n",
      "Cell \u001b[1;32mIn[2], line 15\u001b[0m, in \u001b[0;36mget_image_metadata\u001b[1;34m(image_path)\u001b[0m\n\u001b[0;32m     13\u001b[0m \u001b[38;5;28mprint\u001b[39m(\u001b[38;5;124mf\u001b[39m\u001b[38;5;124m\"\u001b[39m\u001b[38;5;130;01m\\n\u001b[39;00m\u001b[38;5;132;01m{\u001b[39;00mifd\u001b[38;5;132;01m}\u001b[39;00m\u001b[38;5;124m:\u001b[39m\u001b[38;5;124m\"\u001b[39m)\n\u001b[0;32m     14\u001b[0m \u001b[38;5;28;01mfor\u001b[39;00m tag \u001b[38;5;129;01min\u001b[39;00m exif_data[ifd]:\n\u001b[1;32m---> 15\u001b[0m     tag_name \u001b[38;5;241m=\u001b[39m piexif\u001b[38;5;241m.\u001b[39mTAGS[ifd][tag][\u001b[38;5;124m\"\u001b[39m\u001b[38;5;124mname\u001b[39m\u001b[38;5;124m\"\u001b[39m]\n\u001b[0;32m     16\u001b[0m     tag_value \u001b[38;5;241m=\u001b[39m exif_data[ifd][tag]\n\u001b[0;32m     17\u001b[0m     \u001b[38;5;28mprint\u001b[39m(\u001b[38;5;124mf\u001b[39m\u001b[38;5;124m\"\u001b[39m\u001b[38;5;124m  \u001b[39m\u001b[38;5;132;01m{\u001b[39;00mtag_name\u001b[38;5;132;01m}\u001b[39;00m\u001b[38;5;124m: \u001b[39m\u001b[38;5;132;01m{\u001b[39;00mtag_value\u001b[38;5;132;01m}\u001b[39;00m\u001b[38;5;124m\"\u001b[39m)\n",
      "\u001b[1;31mKeyError\u001b[0m: 'thumbnail'"
     ]
    }
   ],
   "source": [
    "# Example usage\n",
    "image_path = \"fer2.jpeg\"\n",
    "get_image_metadata(image_path)"
   ]
  },
  {
   "cell_type": "code",
   "execution_count": null,
   "id": "a8957519-0e82-4026-a2ff-753680f0e387",
   "metadata": {},
   "outputs": [],
   "source": []
  }
 ],
 "metadata": {
  "kernelspec": {
   "display_name": "Python 3 (ipykernel)",
   "language": "python",
   "name": "python3"
  },
  "language_info": {
   "codemirror_mode": {
    "name": "ipython",
    "version": 3
   },
   "file_extension": ".py",
   "mimetype": "text/x-python",
   "name": "python",
   "nbconvert_exporter": "python",
   "pygments_lexer": "ipython3",
   "version": "3.12.8"
  }
 },
 "nbformat": 4,
 "nbformat_minor": 5
}
